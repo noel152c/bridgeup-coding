{
 "cells": [
  {
   "cell_type": "markdown",
   "metadata": {},
   "source": [
    "# Creating a distance matrix\n",
    "In this notebook you will learn how to work with fasta files and generate a distance matrix that you will need to construct your phylogenetic tree."
   ]
  },
  {
   "cell_type": "markdown",
   "metadata": {},
   "source": [
    "Import numpy:"
   ]
  },
  {
   "cell_type": "code",
   "execution_count": 1,
   "metadata": {},
   "outputs": [],
   "source": [
    "import numpy as np "
   ]
  },
  {
   "cell_type": "markdown",
   "metadata": {},
   "source": [
    "We will also need to import SeqIO from the BioPython library:"
   ]
  },
  {
   "cell_type": "code",
   "execution_count": 2,
   "metadata": {},
   "outputs": [],
   "source": [
    "from Bio import SeqIO"
   ]
  },
  {
   "cell_type": "markdown",
   "metadata": {},
   "source": [
    "Copy and paste the function from the butterfly Notebook that returns the difference between two sequences:\n",
    "\n",
    "**You will need to make one change: the function needs to find the shortest sequence and stop the analysis at that nucleotide. You can use the \"break\" command to stop a for loop.**"
   ]
  },
  {
   "cell_type": "code",
   "execution_count": null,
   "metadata": {},
   "outputs": [],
   "source": [
    "# #seqA = \"GACAGCG\"\n",
    "# #seqB = \"ATGCG\"\n",
    "# def different(seqA, seqB):\n",
    "#     if len(seqA)<=len(seqB):\n",
    "#         shorter = seqA\n",
    "#         longer = seqB\n",
    "#     else:\n",
    "#         shorter = seqB\n",
    "#         longer = seqA\n",
    "#     num_diff = 0\n",
    "#     for c, i in enumerate(shorter):\n",
    "#         if c < len(shorter):\n",
    "#             if i != longer[c]:\n",
    "#                 num_diff += 1\n",
    "#                 print('found difference')\n",
    "#             else:\n",
    "#                 break\n",
    "#     print(num_diff)\n",
    "#     return num_diff\n",
    "# print(different(seqA, seqB))"
   ]
  },
  {
   "cell_type": "markdown",
   "metadata": {},
   "source": [
    "Create an empty list and use the SeqIO.parse() function to append each sequence in the fasta file:"
   ]
  },
  {
   "cell_type": "code",
   "execution_count": 3,
   "metadata": {},
   "outputs": [
    {
     "name": "stdout",
     "output_type": "stream",
     "text": [
      "[Seq('ATGGTGCACCTGACTCCTGAGGAGAAGTCTGCCGTTACTGCCCTGTGGGGCAAG...TAA', SingleLetterAlphabet()), Seq('ATGGTCCATTGGACAGCTGAAGAGAAGGCCGCCATCACTTCTGTATGGCAGAAG...TAA', SingleLetterAlphabet()), Seq('ATGGTTGAGTGGACAGATGCCGAGCGCACAGCCATCCTTGGCCTGTGGGGAAAG...TAG', SingleLetterAlphabet()), Seq('ATGGTGCACCTGACTCCTGAGGAGAAGTCTGCCGTTACTGCCCTGTGGGGCAAG...AAG', SingleLetterAlphabet()), Seq('ATGGTTGAGTTGACAGAAGCCCAGCGTGGTGCTATCGTTAACCTGTGGGGACAT...ATA', SingleLetterAlphabet()), Seq('ATGGTGCACTGGACTGCTGAGGAGAAGCAGCTCATCACCGGCCTCTGGGGCAAG...TAA', SingleLetterAlphabet()), Seq('ATGGTGCACCTGACTCCTGAGGAGAAGTCTGCCGTTACTGCCCTGTGGGGCAAG...AGG', SingleLetterAlphabet()), Seq('ATGGTGAATCTGACTGCTGCTGAGAAGACACAAGTCACCAACCTGTGGGGCAAG...TGA', SingleLetterAlphabet()), Seq('ATGGTGCATCTGTCTGCTGAGGAGAAGGAGGCCGTCCTCGGCCTGTGGGGCAAA...TAA', SingleLetterAlphabet()), Seq('ATGGTGCACCTGACTGATGCTGAGAAGGCTGCTGTCTCTGGCCTGTGGGGAAAG...TAA', SingleLetterAlphabet()), Seq('ATGGTGCATCTGACTCCTGAGGAGAAGAATGCCGTCACCACCCTGTGGGGCAAG...TAA', SingleLetterAlphabet()), Seq('ATGTCAGCCTTCAACCCCCATGAGAAGCAACTCATTGGTGACCTGTGGCACAAG...TAA', SingleLetterAlphabet()), Seq('ATGGTGCACCTGACTCCTGAGGAGAAGTCTGCTGTTACTGCCCTGTGGGGCAAG...TAA', SingleLetterAlphabet())]\n"
     ]
    }
   ],
   "source": [
    "from Bio import SeqIO\n",
    "from Bio.Seq import Seq\n",
    "seqs = []\n",
    "for seq_record in list(SeqIO.parse('hemoglobin_sequences.fasta', 'fasta'))[:]:\n",
    "    seqs.append(seq_record.seq)\n",
    "print(seqs)"
   ]
  },
  {
   "cell_type": "markdown",
   "metadata": {},
   "source": [
    "Print out the first item in seqs to check that your code worked:"
   ]
  },
  {
   "cell_type": "code",
   "execution_count": null,
   "metadata": {},
   "outputs": [],
   "source": []
  },
  {
   "cell_type": "markdown",
   "metadata": {},
   "source": [
    "Print out just the sequence from the first species using the .seq method:"
   ]
  },
  {
   "cell_type": "code",
   "execution_count": null,
   "metadata": {},
   "outputs": [],
   "source": []
  },
  {
   "cell_type": "markdown",
   "metadata": {},
   "source": [
    "Print out the length of the seqs list to see how many sequences there are:"
   ]
  },
  {
   "cell_type": "code",
   "execution_count": null,
   "metadata": {},
   "outputs": [],
   "source": []
  },
  {
   "cell_type": "markdown",
   "metadata": {},
   "source": [
    "Create a function that takes the list of sequences as its only argument and returns a numpy array with the hamming distance of each pair of sequences:\n",
    "\n",
    "Hint: You will need to create an empty two dimensional numpy array with the same number of rows and columns as there are sequences in your list."
   ]
  },
  {
   "cell_type": "code",
   "execution_count": 20,
   "metadata": {},
   "outputs": [],
   "source": [
    "# def different(seqA, seqB):\n",
    "#     if len(seqA)<=len(seqB):\n",
    "#         shorter = seqA\n",
    "#         longer = seqB\n",
    "#     else:\n",
    "#         shorter = seqB\n",
    "#         longer = seqA\n",
    "#     num_diff = 0\n",
    "#     for c, i in enumerate(shorter):\n",
    "#         if c < len(shorter):\n",
    "#             if i != longer[c]:\n",
    "#                 num_diff += 1\n",
    "#                 print('found difference')\n",
    "#             else:\n",
    "#                 break\n",
    "#     print(num_diff)\n",
    "#     return num_diff\n",
    "#     #print(different(seqA, seqB))\n",
    "\n",
    "def diffNum(seqA,seqB):\n",
    "    if len(seqA) <= len(seqB):\n",
    "        short = seqA\n",
    "        long = seqB\n",
    "    else:\n",
    "        short = seqB\n",
    "        long = seqA\n",
    "    num_diff = 0\n",
    "    for c, i in enumerate(short):\n",
    "       #print(i)\n",
    "        if c < len(short):\n",
    "            if i != long[c]:\n",
    "                num_diff += 1\n",
    "        else:\n",
    "            break\n",
    "    return num_diff\n",
    "\n",
    "\n",
    "\n",
    "empt = np.empty([13,13])\n",
    "def diff(seqs):\n",
    "    for i in range(len(seqs)):\n",
    "         for j in range(len(seqs)):\n",
    "            #print(seqs[i], seqs[j])\n",
    "            x = diffNum(seqs[i],seqs[j])\n",
    "            empt[i,j] = x\n",
    "    return empt "
   ]
  },
  {
   "cell_type": "markdown",
   "metadata": {},
   "source": [
    "Run your function:"
   ]
  },
  {
   "cell_type": "code",
   "execution_count": 24,
   "metadata": {},
   "outputs": [],
   "source": [
    "x = diff(seqs)\n",
    "fname = \"Final_Project.txt\""
   ]
  },
  {
   "cell_type": "code",
   "execution_count": 27,
   "metadata": {},
   "outputs": [],
   "source": [
    "np.savetxt(fname,x,fmt = \"%.1f\")"
   ]
  },
  {
   "cell_type": "code",
   "execution_count": null,
   "metadata": {},
   "outputs": [],
   "source": []
  }
 ],
 "metadata": {
  "kernelspec": {
   "display_name": "Python 3",
   "language": "python",
   "name": "python3"
  },
  "language_info": {
   "codemirror_mode": {
    "name": "ipython",
    "version": 3
   },
   "file_extension": ".py",
   "mimetype": "text/x-python",
   "name": "python",
   "nbconvert_exporter": "python",
   "pygments_lexer": "ipython3",
   "version": "3.7.3"
  }
 },
 "nbformat": 4,
 "nbformat_minor": 2
}
